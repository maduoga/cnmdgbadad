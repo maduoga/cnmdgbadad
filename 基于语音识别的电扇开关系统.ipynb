{
 "cells": [
  {
   "cell_type": "code",
   "execution_count": 197,
   "id": "c5231949-7cb6-48f9-b441-9268f8cdf020",
   "metadata": {},
   "outputs": [],
   "source": [
    "import wave\n",
    "import requests\n",
    "import time\n",
    "import base64\n",
    "from pyaudio import PyAudio, paInt16\n",
    "import webbrowser\n",
    "import serial\n",
    "import modbus_tk\n",
    "import modbus_tk.defines as cst\n",
    "from modbus_tk import modbus_rtu\n",
    "import os\n",
    "from aip import AipSpeech\n",
    "def ConnectRelay(PORT):\n",
    "    \"\"\"\n",
    "    连接到继电器模块并执行基本的读取操作。\n",
    "    \n",
    "    :param PORT: 串行端口名称，例如 'COM3'\n",
    "    :return: response_code 操作成功或失败的代码，master 485 主机对象或 None\n",
    "    \"\"\"\n",
    "    try:\n",
    "        # 创建串行连接对象，配置为 c2s03 设备默认的串行通信参数\n",
    "        serial_connection = serial.Serial(\n",
    "            port=PORT,\n",
    "            baudrate=9600,\n",
    "            bytesize=8,\n",
    "            parity='E',\n",
    "            stopbits=1\n",
    "        )\n",
    "        \n",
    "        # 创建 modbus 连接对象\n",
    "        master = modbus_rtu.RtuMaster(serial_connection)\n",
    "        master.set_timeout(5.0)\n",
    "        master.set_verbose(True)\n",
    "        \n",
    "        # 读取输入寄存器，c2s03 设备默认 slave=2, 起始地址=0, 输入寄存器个数 2\n",
    "        master.execute(2, cst.READ_INPUT_REGISTERS, 0, 2)\n",
    "        \n",
    "        # 读取保持寄存器，c2s03 设备默认 slave=2, 起始地址=0, 保持寄存器个数 1\n",
    "        # 可以根据需要修改保持寄存器的读取\n",
    "        master.execute(2, cst.READ_HOLDING_REGISTERS, 0, 1)\n",
    "        \n",
    "        # 没有报错，返回 1\n",
    "        response_code = 1\n",
    "    \n",
    "    except Exception as exc:\n",
    "        # 打印异常信息\n",
    "        print(str(exc))\n",
    "        \n",
    "        # 报错，返回 -1 并设置 master 为 None\n",
    "        response_code = -1\n",
    "        master = None\n",
    "    \n",
    "    return response_code, master"
   ]
  },
  {
   "cell_type": "code",
   "execution_count": 182,
   "id": "835188a2-29d7-455f-8fda-8687895e73cf",
   "metadata": {},
   "outputs": [],
   "source": [
    "import sounddevice as sd\n",
    "import wave\n",
    "import numpy as np\n",
    "import os\n",
    "\n",
    "# 指定录音的参数\n",
    "def record():\n",
    "    SAMPLE_RATE = 16000  # 采样率，单位 Hz\n",
    "    RECORD_SECONDS = 3   # 录音时长，单位 秒\n",
    "    CHANNELS = 1         # 通道数，1 为单声道，2 为立体声\n",
    "    BYTE_WIDTH = 2       # 位深，16位 PCM\n",
    "    \n",
    "    # 指定保存音频的文件夹路径\n",
    "    folder_path = r\"C:\\Users\\llq\\Desktop\\znxt\"  # 替换为你的文件夹路径\n",
    "    if not os.path.exists(folder_path):\n",
    "        os.makedirs(folder_path)\n",
    "    \n",
    "    file_path = os.path.join(folder_path, 'recorded_audio.wav')\n",
    "    # 准备录音\n",
    "    print('Recording started. It will automatically stop after {} seconds.'.format(RECORD_SECONDS))\n",
    "    try:\n",
    "        # 计算要录制的样本总数\n",
    "        frames = int(SAMPLE_RATE * RECORD_SECONDS)\n",
    "        # 使用 sounddevice 录制音频\n",
    "        recording = sd.rec(frames, samplerate=SAMPLE_RATE, channels=CHANNELS, dtype='int16')\n",
    "        # 启动录音并等待完成\n",
    "        sd.wait()\n",
    "    except KeyboardInterrupt:\n",
    "        print(r'Recording stopped by user.')\n",
    "    \n",
    "    # 保存录音到文件\n",
    "    with wave.open(file_path, 'wb') as wf:\n",
    "        wf.setnchannels(CHANNELS)\n",
    "        wf.setsampwidth(BYTE_WIDTH)\n",
    "        wf.setframerate(SAMPLE_RATE)\n",
    "        wf.writeframes(recording.tobytes())\n",
    "    \n",
    "    print('Recording saved to:', file_path)"
   ]
  },
  {
   "cell_type": "code",
   "execution_count": 198,
   "id": "7f9c20c4-5a58-41de-b68b-17609122fbe3",
   "metadata": {},
   "outputs": [],
   "source": [
    "def change(result):\n",
    "    ACTION = '000' \n",
    "    if result == '打开。':\n",
    "        ACTION = 'ON'\n",
    "    elif result == '关闭。':\n",
    "        ACTION = 'OFF'\n",
    "    return ACTION\n",
    "def Switch(master, ACTION):\n",
    "    \"\"\"\n",
    "    此函数为控制继电器开合函数，如果 ACTION=ON 则闭合，如果 ACTION=OFF 则断开。\n",
    "    \n",
    "    :param master: 485 主机对象，由 ConnectRelay 产生\n",
    "    :param ACTION: ON 继电器闭合，开启风扇；OFF 继电器断开，关闭风扇。\n",
    "    :return: >0 操作成功，<0 操作失败\n",
    "    \"\"\"\n",
    "    try:\n",
    "        # 将 ACTION 参数转换为小写，以实现不区分大小写的比较\n",
    "        ACTION = ACTION.lower()\n",
    "\n",
    "        # 如果 ACTION 包含 \"on\"，则闭合继电器\n",
    "        if \"on\" in ACTION:\n",
    "            # 写单个线圈，状态常量为 0xFF00，请求线圈接通\n",
    "            # 设备默认 slave=2, 线圈地址=0, 请求线圈接通即 output_value 不等于 0\n",
    "            master.execute(2, cst.WRITE_SINGLE_COIL, 0, output_value=1)\n",
    "        else:\n",
    "            # 如果 ACTION 包含 \"off\"，则断开继电器\n",
    "            if \"off\" in ACTION:\n",
    "                # 写单个线圈，状态常量为 0x0000，请求线圈断开\n",
    "                # 设备默认 slave=2, 线圈地址=0, 请求线圈断开即 output_value 等于 0\n",
    "                master.execute(2, cst.WRITE_SINGLE_COIL, 0, output_value=0)\n",
    "\n",
    "        # 没有报错，返回 1\n",
    "        response_code = 1\n",
    "\n",
    "    except Exception as exc:\n",
    "        # 打印异常信息\n",
    "        print(str(exc))\n",
    "        # 报错，返回 -1\n",
    "        response_code = -1\n",
    "\n",
    "    return response_code\n"
   ]
  },
  {
   "cell_type": "code",
   "execution_count": 222,
   "id": "9f6d5e4b-32ef-419b-9c64-95851d2e611b",
   "metadata": {},
   "outputs": [
    {
     "name": "stdout",
     "output_type": "stream",
     "text": [
      "Recording started. It will automatically stop after 3 seconds.\n",
      "Recording saved to: C:\\Users\\llq\\Desktop\\znxt\\recorded_audio.wav\n",
      "识别结果： 大开。\n"
     ]
    },
    {
     "name": "stdin",
     "output_type": "stream",
     "text": [
      " 1213345657\n"
     ]
    },
    {
     "name": "stdout",
     "output_type": "stream",
     "text": [
      "Recording started. It will automatically stop after 3 seconds.\n",
      "Recording saved to: C:\\Users\\llq\\Desktop\\znxt\\recorded_audio.wav\n",
      "识别结果： 打开。\n"
     ]
    },
    {
     "name": "stdin",
     "output_type": "stream",
     "text": [
      " 12134\n"
     ]
    },
    {
     "name": "stdout",
     "output_type": "stream",
     "text": [
      "Recording started. It will automatically stop after 3 seconds.\n",
      "Recording saved to: C:\\Users\\llq\\Desktop\\znxt\\recorded_audio.wav\n",
      "识别结果： 这比较简单关闭。\n"
     ]
    },
    {
     "name": "stdin",
     "output_type": "stream",
     "text": [
      " 345678\n"
     ]
    },
    {
     "name": "stdout",
     "output_type": "stream",
     "text": [
      "Recording started. It will automatically stop after 3 seconds.\n",
      "Recording saved to: C:\\Users\\llq\\Desktop\\znxt\\recorded_audio.wav\n",
      "识别结果： 关闭。\n"
     ]
    },
    {
     "name": "stdin",
     "output_type": "stream",
     "text": [
      " 0\n"
     ]
    }
   ],
   "source": [
    "a,master=ConnectRelay('COM3')\n",
    "while True:\n",
    "        record()\n",
    "        # 百度智能云平台语音技能密钥\n",
    "        BaiduAPP_ID = '84595183'\n",
    "        BaiduAPI_KEY = 'JyaxymyHcw8PVCYiq1MMjH14'\n",
    "        SECRET_KEY = '7sdcIb5B3Bdiwyq8VqZH4xEDGbjUsviX'\n",
    "        client = AipSpeech(BaiduAPP_ID, BaiduAPI_KEY, SECRET_KEY)\n",
    "        audio_file_path = r'C:\\Users\\llq\\Desktop\\znxt\\recorded_audio.wav'\n",
    "        # 检查文件是否存在\n",
    "        if not os.path.isfile(audio_file_path):\n",
    "            print(\"文件不存在，请检查文件路径和文件名。\")\n",
    "            print(\"文件路径：\", audio_file_path)\n",
    "        else:\n",
    "            # 文件存在，读取本地音频文件\n",
    "            try:\n",
    "                with open(audio_file_path, 'rb') as f:\n",
    "                    audio_data = f.read()\n",
    "            except IOError as e:\n",
    "                print(f\"读取文件时发生错误: {e}\")\n",
    "            else:\n",
    "                # 调用百度智能云语音识别接口\n",
    "                result = client.asr(audio_data, 'wav', 16000, {\n",
    "                    'dev_pid': 1537,  # 普通话识别\n",
    "                })\n",
    "                # 检查识别结果\n",
    "                if 'result' in result:\n",
    "                    print(\"识别结果：\", result[\"result\"][0])\n",
    "                else:\n",
    "                    print(\"识别失败，没有结果返回。\")\n",
    "        if not os.path.isfile(audio_file_path) or 'audio_data' not in locals():\n",
    "            print(\"无法读取音频数据，语音识别未执行。\")\n",
    "        answer=change(result['result'][0])\n",
    "        Switch(master,answer)\n",
    "        a=input()\n",
    "        if a=='0':\n",
    "            break\n",
    "        else:\n",
    "            continue"
   ]
  },
  {
   "cell_type": "code",
   "execution_count": 219,
   "id": "feb8faf3-6aaf-41e5-a48c-6ca9280b2850",
   "metadata": {},
   "outputs": [],
   "source": []
  },
  {
   "cell_type": "code",
   "execution_count": 220,
   "id": "9765a57b-c85f-4aeb-94cb-907c6ec7a869",
   "metadata": {},
   "outputs": [
    {
     "data": {
      "text/plain": [
       "1"
      ]
     },
     "execution_count": 220,
     "metadata": {},
     "output_type": "execute_result"
    }
   ],
   "source": []
  },
  {
   "cell_type": "code",
   "execution_count": null,
   "id": "240c862f-9e3c-4979-996e-87e25c4522e0",
   "metadata": {},
   "outputs": [],
   "source": []
  }
 ],
 "metadata": {
  "kernelspec": {
   "display_name": "Python 3 (ipykernel)",
   "language": "python",
   "name": "python3"
  },
  "language_info": {
   "codemirror_mode": {
    "name": "ipython",
    "version": 3
   },
   "file_extension": ".py",
   "mimetype": "text/x-python",
   "name": "python",
   "nbconvert_exporter": "python",
   "pygments_lexer": "ipython3",
   "version": "3.11.7"
  }
 },
 "nbformat": 4,
 "nbformat_minor": 5
}
